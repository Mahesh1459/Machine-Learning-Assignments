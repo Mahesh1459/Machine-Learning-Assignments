{
 "cells": [
  {
   "cell_type": "code",
   "execution_count": 1,
   "id": "50cec8c4",
   "metadata": {},
   "outputs": [
    {
     "data": {
      "text/plain": [
       "0.26598552904870054"
      ]
     },
     "execution_count": 1,
     "metadata": {},
     "output_type": "execute_result"
    }
   ],
   "source": [
    "1st Answer\n",
    "from scipy.stats import norm\n",
    "nd = norm(45,8)\n",
    "1-nd.cdf(50)"
   ]
  },
  {
   "cell_type": "code",
   "execution_count": 6,
   "id": "df15c24f",
   "metadata": {},
   "outputs": [
    {
     "data": {
      "text/plain": [
       "0.15865525393145707"
      ]
     },
     "execution_count": 6,
     "metadata": {},
     "output_type": "execute_result"
    }
   ],
   "source": [
    "#2nd Answer\n",
    "from scipy.stats import norm\n",
    "nd = norm(38,6)\n",
    "1-nd.cdf(44)\n"
   ]
  },
  {
   "cell_type": "code",
   "execution_count": 7,
   "id": "20264b11",
   "metadata": {},
   "outputs": [
    {
     "data": {
      "text/plain": [
       "0.3413447460685429"
      ]
     },
     "execution_count": 7,
     "metadata": {},
     "output_type": "execute_result"
    }
   ],
   "source": [
    "nd.cdf(44)-nd.cdf(38)\n"
   ]
  },
  {
   "cell_type": "code",
   "execution_count": 8,
   "id": "f4ba24c6",
   "metadata": {},
   "outputs": [
    {
     "data": {
      "text/plain": [
       "0.09121121972586788"
      ]
     },
     "execution_count": 8,
     "metadata": {},
     "output_type": "execute_result"
    }
   ],
   "source": [
    "#3rd answer\n",
    "nd.cdf(30)"
   ]
  },
  {
   "cell_type": "code",
   "execution_count": 10,
   "id": "de03b7e3",
   "metadata": {},
   "outputs": [
    {
     "data": {
      "text/plain": [
       "0.6778258809783382"
      ]
     },
     "execution_count": 10,
     "metadata": {},
     "output_type": "execute_result"
    }
   ],
   "source": [
    "#4th answer\n",
    "from scipy.stats import norm\n",
    "nd = norm(100,20)\n",
    "nd.cdf(119.8)-nd.cdf(80.2)"
   ]
  },
  {
   "cell_type": "code",
   "execution_count": 11,
   "id": "423937a5",
   "metadata": {},
   "outputs": [
    {
     "data": {
      "text/plain": [
       "0.9899759913364774"
      ]
     },
     "execution_count": 11,
     "metadata": {},
     "output_type": "execute_result"
    }
   ],
   "source": [
    "nd.cdf(151.5) - nd.cdf(48.5)"
   ]
  },
  {
   "cell_type": "code",
   "execution_count": 12,
   "id": "73804e17",
   "metadata": {},
   "outputs": [
    {
     "data": {
      "text/plain": [
       "0.2986095735052065"
      ]
     },
     "execution_count": 12,
     "metadata": {},
     "output_type": "execute_result"
    }
   ],
   "source": [
    "nd.cdf(105.9)-nd.cdf(90.5)"
   ]
  },
  {
   "cell_type": "code",
   "execution_count": 16,
   "id": "176eb289",
   "metadata": {},
   "outputs": [],
   "source": [
    "#5th Answer\n",
    "from scipy import stats"
   ]
  },
  {
   "cell_type": "code",
   "execution_count": 17,
   "id": "11baedf6",
   "metadata": {},
   "outputs": [
    {
     "data": {
      "text/plain": [
       "(99.00810347848784, 980.9918965215122)"
      ]
     },
     "execution_count": 17,
     "metadata": {},
     "output_type": "execute_result"
    }
   ],
   "source": [
    "stats.norm.interval(0.95,540,225)"
   ]
  },
  {
   "cell_type": "code",
   "execution_count": 18,
   "id": "07081a96",
   "metadata": {},
   "outputs": [
    {
     "data": {
      "text/plain": [
       "0.0477903522728147"
      ]
     },
     "execution_count": 18,
     "metadata": {},
     "output_type": "execute_result"
    }
   ],
   "source": [
    "stats.norm.cdf(0,5,3)"
   ]
  },
  {
   "cell_type": "code",
   "execution_count": 19,
   "id": "c93ef035",
   "metadata": {},
   "outputs": [
    {
     "data": {
      "text/plain": [
       "0.040059156863817086"
      ]
     },
     "execution_count": 19,
     "metadata": {},
     "output_type": "execute_result"
    }
   ],
   "source": [
    "stats.norm.cdf(0,7,4)"
   ]
  },
  {
   "cell_type": "code",
   "execution_count": null,
   "id": "e544fa55",
   "metadata": {},
   "outputs": [],
   "source": []
  }
 ],
 "metadata": {
  "kernelspec": {
   "display_name": "Python 3 (ipykernel)",
   "language": "python",
   "name": "python3"
  },
  "language_info": {
   "codemirror_mode": {
    "name": "ipython",
    "version": 3
   },
   "file_extension": ".py",
   "mimetype": "text/x-python",
   "name": "python",
   "nbconvert_exporter": "python",
   "pygments_lexer": "ipython3",
   "version": "3.9.13"
  }
 },
 "nbformat": 4,
 "nbformat_minor": 5
}
