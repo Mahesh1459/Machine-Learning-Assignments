{
 "cells": [
  {
   "cell_type": "code",
   "execution_count": 1,
   "id": "697af4da",
   "metadata": {},
   "outputs": [
    {
     "data": {
      "text/plain": [
       "0.2112995473337107"
      ]
     },
     "execution_count": 1,
     "metadata": {},
     "output_type": "execute_result"
    }
   ],
   "source": [
    "from scipy import stats\n",
    "from scipy.stats import norm\n",
    "\n",
    "#finding of Z score for 45 & 55\n",
    "#  n = 100, population mean= 50, population SD= 40\n",
    "z1=(45-50)/(40/100**0.5)\n",
    "z2=(55-50)/(40/100**0.5)\n",
    "#probability of not having a investigation\n",
    "no_investigation_prob = stats.norm.cdf(z2)-stats.norm.cdf(z1)\n",
    "#probability of having a investigation\n",
    "1-no_investigation_prob"
   ]
  },
  {
   "cell_type": "code",
   "execution_count": null,
   "id": "08e74d28",
   "metadata": {},
   "outputs": [],
   "source": []
  }
 ],
 "metadata": {
  "kernelspec": {
   "display_name": "Python 3 (ipykernel)",
   "language": "python",
   "name": "python3"
  },
  "language_info": {
   "codemirror_mode": {
    "name": "ipython",
    "version": 3
   },
   "file_extension": ".py",
   "mimetype": "text/x-python",
   "name": "python",
   "nbconvert_exporter": "python",
   "pygments_lexer": "ipython3",
   "version": "3.9.13"
  }
 },
 "nbformat": 4,
 "nbformat_minor": 5
}
