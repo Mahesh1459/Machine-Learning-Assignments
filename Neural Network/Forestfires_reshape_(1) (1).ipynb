{
  "nbformat": 4,
  "nbformat_minor": 0,
  "metadata": {
    "colab": {
      "provenance": []
    },
    "kernelspec": {
      "name": "python3",
      "display_name": "Python 3"
    },
    "language_info": {
      "name": "python"
    }
  },
  "cells": [
    {
      "cell_type": "code",
      "execution_count": 1,
      "metadata": {
        "id": "06nnVkY7unz6"
      },
      "outputs": [],
      "source": [
        "\n",
        "from tensorflow.keras.layers import Dense\n",
        "from tensorflow.keras.models import Sequential"
      ]
    },
    {
      "cell_type": "code",
      "source": [
        "import pandas as pd\n",
        "df = pd.read_csv(\"forestfires.csv\")\n",
        "df.head()\n"
      ],
      "metadata": {
        "colab": {
          "base_uri": "https://localhost:8080/",
          "height": 255
        },
        "id": "_OHia7bKuq9H",
        "outputId": "3c963d55-526c-44b7-cb64-997ae9a5f693"
      },
      "execution_count": 2,
      "outputs": [
        {
          "output_type": "execute_result",
          "data": {
            "text/plain": [
              "  month  day  FFMC   DMC     DC  ISI  temp  RH  wind  rain  ...  monthfeb  \\\n",
              "0   mar  fri  86.2  26.2   94.3  5.1   8.2  51   6.7   0.0  ...         0   \n",
              "1   oct  tue  90.6  35.4  669.1  6.7  18.0  33   0.9   0.0  ...         0   \n",
              "2   oct  sat  90.6  43.7  686.9  6.7  14.6  33   1.3   0.0  ...         0   \n",
              "3   mar  fri  91.7  33.3   77.5  9.0   8.3  97   4.0   0.2  ...         0   \n",
              "4   mar  sun  89.3  51.3  102.2  9.6  11.4  99   1.8   0.0  ...         0   \n",
              "\n",
              "   monthjan  monthjul  monthjun  monthmar  monthmay  monthnov  monthoct  \\\n",
              "0         0         0         0         1         0         0         0   \n",
              "1         0         0         0         0         0         0         1   \n",
              "2         0         0         0         0         0         0         1   \n",
              "3         0         0         0         1         0         0         0   \n",
              "4         0         0         0         1         0         0         0   \n",
              "\n",
              "   monthsep  size_category  \n",
              "0         0          small  \n",
              "1         0          small  \n",
              "2         0          small  \n",
              "3         0          small  \n",
              "4         0          small  \n",
              "\n",
              "[5 rows x 31 columns]"
            ],
            "text/html": [
              "\n",
              "  <div id=\"df-f2ea86a7-90fd-4476-bd41-adb5661b7341\" class=\"colab-df-container\">\n",
              "    <div>\n",
              "<style scoped>\n",
              "    .dataframe tbody tr th:only-of-type {\n",
              "        vertical-align: middle;\n",
              "    }\n",
              "\n",
              "    .dataframe tbody tr th {\n",
              "        vertical-align: top;\n",
              "    }\n",
              "\n",
              "    .dataframe thead th {\n",
              "        text-align: right;\n",
              "    }\n",
              "</style>\n",
              "<table border=\"1\" class=\"dataframe\">\n",
              "  <thead>\n",
              "    <tr style=\"text-align: right;\">\n",
              "      <th></th>\n",
              "      <th>month</th>\n",
              "      <th>day</th>\n",
              "      <th>FFMC</th>\n",
              "      <th>DMC</th>\n",
              "      <th>DC</th>\n",
              "      <th>ISI</th>\n",
              "      <th>temp</th>\n",
              "      <th>RH</th>\n",
              "      <th>wind</th>\n",
              "      <th>rain</th>\n",
              "      <th>...</th>\n",
              "      <th>monthfeb</th>\n",
              "      <th>monthjan</th>\n",
              "      <th>monthjul</th>\n",
              "      <th>monthjun</th>\n",
              "      <th>monthmar</th>\n",
              "      <th>monthmay</th>\n",
              "      <th>monthnov</th>\n",
              "      <th>monthoct</th>\n",
              "      <th>monthsep</th>\n",
              "      <th>size_category</th>\n",
              "    </tr>\n",
              "  </thead>\n",
              "  <tbody>\n",
              "    <tr>\n",
              "      <th>0</th>\n",
              "      <td>mar</td>\n",
              "      <td>fri</td>\n",
              "      <td>86.2</td>\n",
              "      <td>26.2</td>\n",
              "      <td>94.3</td>\n",
              "      <td>5.1</td>\n",
              "      <td>8.2</td>\n",
              "      <td>51</td>\n",
              "      <td>6.7</td>\n",
              "      <td>0.0</td>\n",
              "      <td>...</td>\n",
              "      <td>0</td>\n",
              "      <td>0</td>\n",
              "      <td>0</td>\n",
              "      <td>0</td>\n",
              "      <td>1</td>\n",
              "      <td>0</td>\n",
              "      <td>0</td>\n",
              "      <td>0</td>\n",
              "      <td>0</td>\n",
              "      <td>small</td>\n",
              "    </tr>\n",
              "    <tr>\n",
              "      <th>1</th>\n",
              "      <td>oct</td>\n",
              "      <td>tue</td>\n",
              "      <td>90.6</td>\n",
              "      <td>35.4</td>\n",
              "      <td>669.1</td>\n",
              "      <td>6.7</td>\n",
              "      <td>18.0</td>\n",
              "      <td>33</td>\n",
              "      <td>0.9</td>\n",
              "      <td>0.0</td>\n",
              "      <td>...</td>\n",
              "      <td>0</td>\n",
              "      <td>0</td>\n",
              "      <td>0</td>\n",
              "      <td>0</td>\n",
              "      <td>0</td>\n",
              "      <td>0</td>\n",
              "      <td>0</td>\n",
              "      <td>1</td>\n",
              "      <td>0</td>\n",
              "      <td>small</td>\n",
              "    </tr>\n",
              "    <tr>\n",
              "      <th>2</th>\n",
              "      <td>oct</td>\n",
              "      <td>sat</td>\n",
              "      <td>90.6</td>\n",
              "      <td>43.7</td>\n",
              "      <td>686.9</td>\n",
              "      <td>6.7</td>\n",
              "      <td>14.6</td>\n",
              "      <td>33</td>\n",
              "      <td>1.3</td>\n",
              "      <td>0.0</td>\n",
              "      <td>...</td>\n",
              "      <td>0</td>\n",
              "      <td>0</td>\n",
              "      <td>0</td>\n",
              "      <td>0</td>\n",
              "      <td>0</td>\n",
              "      <td>0</td>\n",
              "      <td>0</td>\n",
              "      <td>1</td>\n",
              "      <td>0</td>\n",
              "      <td>small</td>\n",
              "    </tr>\n",
              "    <tr>\n",
              "      <th>3</th>\n",
              "      <td>mar</td>\n",
              "      <td>fri</td>\n",
              "      <td>91.7</td>\n",
              "      <td>33.3</td>\n",
              "      <td>77.5</td>\n",
              "      <td>9.0</td>\n",
              "      <td>8.3</td>\n",
              "      <td>97</td>\n",
              "      <td>4.0</td>\n",
              "      <td>0.2</td>\n",
              "      <td>...</td>\n",
              "      <td>0</td>\n",
              "      <td>0</td>\n",
              "      <td>0</td>\n",
              "      <td>0</td>\n",
              "      <td>1</td>\n",
              "      <td>0</td>\n",
              "      <td>0</td>\n",
              "      <td>0</td>\n",
              "      <td>0</td>\n",
              "      <td>small</td>\n",
              "    </tr>\n",
              "    <tr>\n",
              "      <th>4</th>\n",
              "      <td>mar</td>\n",
              "      <td>sun</td>\n",
              "      <td>89.3</td>\n",
              "      <td>51.3</td>\n",
              "      <td>102.2</td>\n",
              "      <td>9.6</td>\n",
              "      <td>11.4</td>\n",
              "      <td>99</td>\n",
              "      <td>1.8</td>\n",
              "      <td>0.0</td>\n",
              "      <td>...</td>\n",
              "      <td>0</td>\n",
              "      <td>0</td>\n",
              "      <td>0</td>\n",
              "      <td>0</td>\n",
              "      <td>1</td>\n",
              "      <td>0</td>\n",
              "      <td>0</td>\n",
              "      <td>0</td>\n",
              "      <td>0</td>\n",
              "      <td>small</td>\n",
              "    </tr>\n",
              "  </tbody>\n",
              "</table>\n",
              "<p>5 rows × 31 columns</p>\n",
              "</div>\n",
              "    <div class=\"colab-df-buttons\">\n",
              "\n",
              "  <div class=\"colab-df-container\">\n",
              "    <button class=\"colab-df-convert\" onclick=\"convertToInteractive('df-f2ea86a7-90fd-4476-bd41-adb5661b7341')\"\n",
              "            title=\"Convert this dataframe to an interactive table.\"\n",
              "            style=\"display:none;\">\n",
              "\n",
              "  <svg xmlns=\"http://www.w3.org/2000/svg\" height=\"24px\" viewBox=\"0 -960 960 960\">\n",
              "    <path d=\"M120-120v-720h720v720H120Zm60-500h600v-160H180v160Zm220 220h160v-160H400v160Zm0 220h160v-160H400v160ZM180-400h160v-160H180v160Zm440 0h160v-160H620v160ZM180-180h160v-160H180v160Zm440 0h160v-160H620v160Z\"/>\n",
              "  </svg>\n",
              "    </button>\n",
              "\n",
              "  <style>\n",
              "    .colab-df-container {\n",
              "      display:flex;\n",
              "      gap: 12px;\n",
              "    }\n",
              "\n",
              "    .colab-df-convert {\n",
              "      background-color: #E8F0FE;\n",
              "      border: none;\n",
              "      border-radius: 50%;\n",
              "      cursor: pointer;\n",
              "      display: none;\n",
              "      fill: #1967D2;\n",
              "      height: 32px;\n",
              "      padding: 0 0 0 0;\n",
              "      width: 32px;\n",
              "    }\n",
              "\n",
              "    .colab-df-convert:hover {\n",
              "      background-color: #E2EBFA;\n",
              "      box-shadow: 0px 1px 2px rgba(60, 64, 67, 0.3), 0px 1px 3px 1px rgba(60, 64, 67, 0.15);\n",
              "      fill: #174EA6;\n",
              "    }\n",
              "\n",
              "    .colab-df-buttons div {\n",
              "      margin-bottom: 4px;\n",
              "    }\n",
              "\n",
              "    [theme=dark] .colab-df-convert {\n",
              "      background-color: #3B4455;\n",
              "      fill: #D2E3FC;\n",
              "    }\n",
              "\n",
              "    [theme=dark] .colab-df-convert:hover {\n",
              "      background-color: #434B5C;\n",
              "      box-shadow: 0px 1px 3px 1px rgba(0, 0, 0, 0.15);\n",
              "      filter: drop-shadow(0px 1px 2px rgba(0, 0, 0, 0.3));\n",
              "      fill: #FFFFFF;\n",
              "    }\n",
              "  </style>\n",
              "\n",
              "    <script>\n",
              "      const buttonEl =\n",
              "        document.querySelector('#df-f2ea86a7-90fd-4476-bd41-adb5661b7341 button.colab-df-convert');\n",
              "      buttonEl.style.display =\n",
              "        google.colab.kernel.accessAllowed ? 'block' : 'none';\n",
              "\n",
              "      async function convertToInteractive(key) {\n",
              "        const element = document.querySelector('#df-f2ea86a7-90fd-4476-bd41-adb5661b7341');\n",
              "        const dataTable =\n",
              "          await google.colab.kernel.invokeFunction('convertToInteractive',\n",
              "                                                    [key], {});\n",
              "        if (!dataTable) return;\n",
              "\n",
              "        const docLinkHtml = 'Like what you see? Visit the ' +\n",
              "          '<a target=\"_blank\" href=https://colab.research.google.com/notebooks/data_table.ipynb>data table notebook</a>'\n",
              "          + ' to learn more about interactive tables.';\n",
              "        element.innerHTML = '';\n",
              "        dataTable['output_type'] = 'display_data';\n",
              "        await google.colab.output.renderOutput(dataTable, element);\n",
              "        const docLink = document.createElement('div');\n",
              "        docLink.innerHTML = docLinkHtml;\n",
              "        element.appendChild(docLink);\n",
              "      }\n",
              "    </script>\n",
              "  </div>\n",
              "\n",
              "\n",
              "<div id=\"df-b2fd9472-45bd-48b1-b9a0-01fbea5cc293\">\n",
              "  <button class=\"colab-df-quickchart\" onclick=\"quickchart('df-b2fd9472-45bd-48b1-b9a0-01fbea5cc293')\"\n",
              "            title=\"Suggest charts.\"\n",
              "            style=\"display:none;\">\n",
              "\n",
              "<svg xmlns=\"http://www.w3.org/2000/svg\" height=\"24px\"viewBox=\"0 0 24 24\"\n",
              "     width=\"24px\">\n",
              "    <g>\n",
              "        <path d=\"M19 3H5c-1.1 0-2 .9-2 2v14c0 1.1.9 2 2 2h14c1.1 0 2-.9 2-2V5c0-1.1-.9-2-2-2zM9 17H7v-7h2v7zm4 0h-2V7h2v10zm4 0h-2v-4h2v4z\"/>\n",
              "    </g>\n",
              "</svg>\n",
              "  </button>\n",
              "\n",
              "<style>\n",
              "  .colab-df-quickchart {\n",
              "    background-color: #E8F0FE;\n",
              "    border: none;\n",
              "    border-radius: 50%;\n",
              "    cursor: pointer;\n",
              "    display: none;\n",
              "    fill: #1967D2;\n",
              "    height: 32px;\n",
              "    padding: 0 0 0 0;\n",
              "    width: 32px;\n",
              "  }\n",
              "\n",
              "  .colab-df-quickchart:hover {\n",
              "    background-color: #E2EBFA;\n",
              "    box-shadow: 0px 1px 2px rgba(60, 64, 67, 0.3), 0px 1px 3px 1px rgba(60, 64, 67, 0.15);\n",
              "    fill: #174EA6;\n",
              "  }\n",
              "\n",
              "  [theme=dark] .colab-df-quickchart {\n",
              "    background-color: #3B4455;\n",
              "    fill: #D2E3FC;\n",
              "  }\n",
              "\n",
              "  [theme=dark] .colab-df-quickchart:hover {\n",
              "    background-color: #434B5C;\n",
              "    box-shadow: 0px 1px 3px 1px rgba(0, 0, 0, 0.15);\n",
              "    filter: drop-shadow(0px 1px 2px rgba(0, 0, 0, 0.3));\n",
              "    fill: #FFFFFF;\n",
              "  }\n",
              "</style>\n",
              "\n",
              "  <script>\n",
              "    async function quickchart(key) {\n",
              "      const charts = await google.colab.kernel.invokeFunction(\n",
              "          'suggestCharts', [key], {});\n",
              "    }\n",
              "    (() => {\n",
              "      let quickchartButtonEl =\n",
              "        document.querySelector('#df-b2fd9472-45bd-48b1-b9a0-01fbea5cc293 button');\n",
              "      quickchartButtonEl.style.display =\n",
              "        google.colab.kernel.accessAllowed ? 'block' : 'none';\n",
              "    })();\n",
              "  </script>\n",
              "</div>\n",
              "    </div>\n",
              "  </div>\n"
            ]
          },
          "metadata": {},
          "execution_count": 2
        }
      ]
    },
    {
      "cell_type": "code",
      "source": [
        "df.drop([\"month\",\"day\"],axis=1,inplace = True)"
      ],
      "metadata": {
        "id": "Umyt9c8iuyX6"
      },
      "execution_count": 3,
      "outputs": []
    },
    {
      "cell_type": "code",
      "source": [
        "\n",
        "#count the number of value repeated\n",
        "df[\"size_category\"].value_counts()"
      ],
      "metadata": {
        "colab": {
          "base_uri": "https://localhost:8080/"
        },
        "id": "6E-5Xov9u0pD",
        "outputId": "68024b2d-7660-4725-c059-8ed7b3f548f1"
      },
      "execution_count": 4,
      "outputs": [
        {
          "output_type": "execute_result",
          "data": {
            "text/plain": [
              "small    378\n",
              "large    139\n",
              "Name: size_category, dtype: int64"
            ]
          },
          "metadata": {},
          "execution_count": 4
        }
      ]
    },
    {
      "cell_type": "code",
      "source": [
        "\n",
        "df.loc[df[\"size_category\"]=='small','size_category']=0\n",
        "df.loc[df[\"size_category\"]=='large','size_category']=1\n",
        "df[\"size_category\"].value_counts()"
      ],
      "metadata": {
        "colab": {
          "base_uri": "https://localhost:8080/"
        },
        "id": "l1Sbobouu8kv",
        "outputId": "40513e58-391a-47c9-ac1d-23c9f2e01be7"
      },
      "execution_count": 5,
      "outputs": [
        {
          "output_type": "execute_result",
          "data": {
            "text/plain": [
              "0    378\n",
              "1    139\n",
              "Name: size_category, dtype: int64"
            ]
          },
          "metadata": {},
          "execution_count": 5
        }
      ]
    },
    {
      "cell_type": "code",
      "source": [
        "X = df.iloc[:,0:28]\n",
        "Y = df.iloc[:,28]"
      ],
      "metadata": {
        "id": "Elk4MXLcu_nX"
      },
      "execution_count": 6,
      "outputs": []
    },
    {
      "cell_type": "code",
      "source": [
        "from sklearn.preprocessing import StandardScaler\n",
        "SS=StandardScaler()\n",
        "X = SS.fit_transform(X)"
      ],
      "metadata": {
        "id": "EyzIXMoDvBpG"
      },
      "execution_count": 7,
      "outputs": []
    },
    {
      "cell_type": "code",
      "source": [
        "import numpy as np\n",
        "X = np.asarray(X).astype(np.float32)\n",
        "Y = np.asarray(Y).astype(np.float32)\n"
      ],
      "metadata": {
        "id": "r5bYUzNfvE67"
      },
      "execution_count": 8,
      "outputs": []
    },
    {
      "cell_type": "code",
      "source": [
        "model = Sequential()\n",
        "model.add(Dense(42, input_dim=28,  activation='relu')) #input layer\n",
        "model.add(Dense(42, activation='sigmoid'))\n",
        "model.add(Dense(1, activation='sigmoid')) #output layer"
      ],
      "metadata": {
        "id": "qbwyUWjdvHio"
      },
      "execution_count": 9,
      "outputs": []
    },
    {
      "cell_type": "code",
      "source": [
        "model.compile(loss='hinge', optimizer='adam',metrics=['accuracy'])"
      ],
      "metadata": {
        "id": "WkuZqDfsvKFY"
      },
      "execution_count": 10,
      "outputs": []
    },
    {
      "cell_type": "code",
      "source": [
        "\n",
        "history = model.fit(X, Y, validation_split=0.33, epochs=150, batch_size=8)"
      ],
      "metadata": {
        "colab": {
          "base_uri": "https://localhost:8080/"
        },
        "id": "h9lJvxDBvMNl",
        "outputId": "1bb515aa-ff55-4fd4-fb74-c6d66b774893"
      },
      "execution_count": 11,
      "outputs": [
        {
          "output_type": "stream",
          "name": "stdout",
          "text": [
            "Epoch 1/150\n",
            "44/44 [==============================] - 1s 8ms/step - loss: 1.2513 - accuracy: 0.5000 - val_loss: 1.1071 - val_accuracy: 0.6784\n",
            "Epoch 2/150\n",
            "44/44 [==============================] - 0s 4ms/step - loss: 1.0848 - accuracy: 0.7572 - val_loss: 1.0378 - val_accuracy: 0.6784\n",
            "Epoch 3/150\n",
            "44/44 [==============================] - 0s 3ms/step - loss: 1.0318 - accuracy: 0.7572 - val_loss: 1.0176 - val_accuracy: 0.6784\n",
            "Epoch 4/150\n",
            "44/44 [==============================] - 0s 3ms/step - loss: 1.0167 - accuracy: 0.7572 - val_loss: 1.0109 - val_accuracy: 0.6784\n",
            "Epoch 5/150\n",
            "44/44 [==============================] - 0s 4ms/step - loss: 1.0105 - accuracy: 0.7572 - val_loss: 1.0077 - val_accuracy: 0.6784\n",
            "Epoch 6/150\n",
            "44/44 [==============================] - 0s 4ms/step - loss: 1.0073 - accuracy: 0.7572 - val_loss: 1.0057 - val_accuracy: 0.6784\n",
            "Epoch 7/150\n",
            "44/44 [==============================] - 0s 4ms/step - loss: 1.0055 - accuracy: 0.7572 - val_loss: 1.0044 - val_accuracy: 0.6784\n",
            "Epoch 8/150\n",
            "44/44 [==============================] - 0s 4ms/step - loss: 1.0043 - accuracy: 0.7572 - val_loss: 1.0035 - val_accuracy: 0.6784\n",
            "Epoch 9/150\n",
            "44/44 [==============================] - 0s 3ms/step - loss: 1.0035 - accuracy: 0.7572 - val_loss: 1.0030 - val_accuracy: 0.6784\n",
            "Epoch 10/150\n",
            "44/44 [==============================] - 0s 4ms/step - loss: 1.0029 - accuracy: 0.7572 - val_loss: 1.0025 - val_accuracy: 0.6784\n",
            "Epoch 11/150\n",
            "44/44 [==============================] - 0s 4ms/step - loss: 1.0024 - accuracy: 0.7572 - val_loss: 1.0022 - val_accuracy: 0.6784\n",
            "Epoch 12/150\n",
            "44/44 [==============================] - 0s 4ms/step - loss: 1.0021 - accuracy: 0.7572 - val_loss: 1.0019 - val_accuracy: 0.6784\n",
            "Epoch 13/150\n",
            "44/44 [==============================] - 0s 4ms/step - loss: 1.0018 - accuracy: 0.7572 - val_loss: 1.0017 - val_accuracy: 0.6784\n",
            "Epoch 14/150\n",
            "44/44 [==============================] - 0s 3ms/step - loss: 1.0015 - accuracy: 0.7572 - val_loss: 1.0015 - val_accuracy: 0.6784\n",
            "Epoch 15/150\n",
            "44/44 [==============================] - 0s 4ms/step - loss: 1.0013 - accuracy: 0.7572 - val_loss: 1.0013 - val_accuracy: 0.6784\n",
            "Epoch 16/150\n",
            "44/44 [==============================] - 0s 4ms/step - loss: 1.0011 - accuracy: 0.7572 - val_loss: 1.0011 - val_accuracy: 0.6784\n",
            "Epoch 17/150\n",
            "44/44 [==============================] - 0s 3ms/step - loss: 1.0009 - accuracy: 0.7572 - val_loss: 1.0010 - val_accuracy: 0.6784\n",
            "Epoch 18/150\n",
            "44/44 [==============================] - 0s 3ms/step - loss: 1.0007 - accuracy: 0.7572 - val_loss: 1.0008 - val_accuracy: 0.6784\n",
            "Epoch 19/150\n",
            "44/44 [==============================] - 0s 3ms/step - loss: 1.0005 - accuracy: 0.7572 - val_loss: 1.0007 - val_accuracy: 0.6784\n",
            "Epoch 20/150\n",
            "44/44 [==============================] - 0s 4ms/step - loss: 1.0001 - accuracy: 0.7572 - val_loss: 1.0004 - val_accuracy: 0.6784\n",
            "Epoch 21/150\n",
            "44/44 [==============================] - 0s 3ms/step - loss: 0.9998 - accuracy: 0.7572 - val_loss: 1.0002 - val_accuracy: 0.6784\n",
            "Epoch 22/150\n",
            "44/44 [==============================] - 0s 3ms/step - loss: 0.9994 - accuracy: 0.7572 - val_loss: 0.9998 - val_accuracy: 0.6784\n",
            "Epoch 23/150\n",
            "44/44 [==============================] - 0s 4ms/step - loss: 0.9987 - accuracy: 0.7572 - val_loss: 0.9994 - val_accuracy: 0.6784\n",
            "Epoch 24/150\n",
            "44/44 [==============================] - 0s 3ms/step - loss: 0.9978 - accuracy: 0.7572 - val_loss: 0.9985 - val_accuracy: 0.6784\n",
            "Epoch 25/150\n",
            "44/44 [==============================] - 0s 3ms/step - loss: 0.9962 - accuracy: 0.7601 - val_loss: 0.9972 - val_accuracy: 0.6784\n",
            "Epoch 26/150\n",
            "44/44 [==============================] - 0s 4ms/step - loss: 0.9938 - accuracy: 0.7601 - val_loss: 0.9948 - val_accuracy: 0.6842\n",
            "Epoch 27/150\n",
            "44/44 [==============================] - 0s 4ms/step - loss: 0.9894 - accuracy: 0.7688 - val_loss: 0.9923 - val_accuracy: 0.6901\n",
            "Epoch 28/150\n",
            "44/44 [==============================] - 0s 4ms/step - loss: 0.9755 - accuracy: 0.7890 - val_loss: 0.9877 - val_accuracy: 0.6901\n",
            "Epoch 29/150\n",
            "44/44 [==============================] - 0s 4ms/step - loss: 0.9622 - accuracy: 0.7977 - val_loss: 0.9819 - val_accuracy: 0.7018\n",
            "Epoch 30/150\n",
            "44/44 [==============================] - 0s 3ms/step - loss: 0.9543 - accuracy: 0.8064 - val_loss: 0.9782 - val_accuracy: 0.7018\n",
            "Epoch 31/150\n",
            "44/44 [==============================] - 0s 4ms/step - loss: 0.9483 - accuracy: 0.8121 - val_loss: 0.9743 - val_accuracy: 0.7018\n",
            "Epoch 32/150\n",
            "44/44 [==============================] - 0s 4ms/step - loss: 0.9428 - accuracy: 0.8179 - val_loss: 0.9695 - val_accuracy: 0.7135\n",
            "Epoch 33/150\n",
            "44/44 [==============================] - 0s 4ms/step - loss: 0.9359 - accuracy: 0.8295 - val_loss: 0.9658 - val_accuracy: 0.7251\n",
            "Epoch 34/150\n",
            "44/44 [==============================] - 0s 4ms/step - loss: 0.9298 - accuracy: 0.8382 - val_loss: 0.9626 - val_accuracy: 0.7310\n",
            "Epoch 35/150\n",
            "44/44 [==============================] - 0s 3ms/step - loss: 0.9285 - accuracy: 0.8295 - val_loss: 0.9575 - val_accuracy: 0.7368\n",
            "Epoch 36/150\n",
            "44/44 [==============================] - 0s 4ms/step - loss: 0.9206 - accuracy: 0.8526 - val_loss: 0.9621 - val_accuracy: 0.7251\n",
            "Epoch 37/150\n",
            "44/44 [==============================] - 0s 4ms/step - loss: 0.9154 - accuracy: 0.8584 - val_loss: 0.9576 - val_accuracy: 0.7193\n",
            "Epoch 38/150\n",
            "44/44 [==============================] - 0s 3ms/step - loss: 0.9101 - accuracy: 0.8613 - val_loss: 0.9613 - val_accuracy: 0.7193\n",
            "Epoch 39/150\n",
            "44/44 [==============================] - 0s 3ms/step - loss: 0.9059 - accuracy: 0.8699 - val_loss: 0.9630 - val_accuracy: 0.7076\n",
            "Epoch 40/150\n",
            "44/44 [==============================] - 0s 4ms/step - loss: 0.9024 - accuracy: 0.8728 - val_loss: 0.9591 - val_accuracy: 0.7193\n",
            "Epoch 41/150\n",
            "44/44 [==============================] - 0s 4ms/step - loss: 0.9005 - accuracy: 0.8786 - val_loss: 0.9467 - val_accuracy: 0.7310\n",
            "Epoch 42/150\n",
            "44/44 [==============================] - 0s 3ms/step - loss: 0.8967 - accuracy: 0.8728 - val_loss: 0.9577 - val_accuracy: 0.7368\n",
            "Epoch 43/150\n",
            "44/44 [==============================] - 0s 3ms/step - loss: 0.8931 - accuracy: 0.8786 - val_loss: 0.9508 - val_accuracy: 0.7427\n",
            "Epoch 44/150\n",
            "44/44 [==============================] - 0s 4ms/step - loss: 0.8907 - accuracy: 0.8786 - val_loss: 0.9447 - val_accuracy: 0.7544\n",
            "Epoch 45/150\n",
            "44/44 [==============================] - 0s 4ms/step - loss: 0.8896 - accuracy: 0.8786 - val_loss: 0.9406 - val_accuracy: 0.7544\n",
            "Epoch 46/150\n",
            "44/44 [==============================] - 0s 5ms/step - loss: 0.8886 - accuracy: 0.8786 - val_loss: 0.9387 - val_accuracy: 0.7544\n",
            "Epoch 47/150\n",
            "44/44 [==============================] - 0s 4ms/step - loss: 0.8866 - accuracy: 0.8786 - val_loss: 0.9305 - val_accuracy: 0.7544\n",
            "Epoch 48/150\n",
            "44/44 [==============================] - 0s 5ms/step - loss: 0.8846 - accuracy: 0.8815 - val_loss: 0.9279 - val_accuracy: 0.7602\n",
            "Epoch 49/150\n",
            "44/44 [==============================] - 0s 5ms/step - loss: 0.8830 - accuracy: 0.8873 - val_loss: 0.9197 - val_accuracy: 0.7719\n",
            "Epoch 50/150\n",
            "44/44 [==============================] - 0s 5ms/step - loss: 0.8815 - accuracy: 0.8844 - val_loss: 0.9163 - val_accuracy: 0.7719\n",
            "Epoch 51/150\n",
            "44/44 [==============================] - 0s 4ms/step - loss: 0.8773 - accuracy: 0.8902 - val_loss: 0.9111 - val_accuracy: 0.7719\n",
            "Epoch 52/150\n",
            "44/44 [==============================] - 0s 5ms/step - loss: 0.8743 - accuracy: 0.8931 - val_loss: 0.9064 - val_accuracy: 0.7778\n",
            "Epoch 53/150\n",
            "44/44 [==============================] - 0s 4ms/step - loss: 0.8716 - accuracy: 0.8960 - val_loss: 0.9069 - val_accuracy: 0.7778\n",
            "Epoch 54/150\n",
            "44/44 [==============================] - 0s 5ms/step - loss: 0.8689 - accuracy: 0.8960 - val_loss: 0.9036 - val_accuracy: 0.7719\n",
            "Epoch 55/150\n",
            "44/44 [==============================] - 0s 5ms/step - loss: 0.8570 - accuracy: 0.9104 - val_loss: 0.9071 - val_accuracy: 0.7719\n",
            "Epoch 56/150\n",
            "44/44 [==============================] - 0s 5ms/step - loss: 0.8535 - accuracy: 0.9104 - val_loss: 0.9050 - val_accuracy: 0.7778\n",
            "Epoch 57/150\n",
            "44/44 [==============================] - 0s 5ms/step - loss: 0.8520 - accuracy: 0.9133 - val_loss: 0.9020 - val_accuracy: 0.7661\n",
            "Epoch 58/150\n",
            "44/44 [==============================] - 0s 3ms/step - loss: 0.8495 - accuracy: 0.9162 - val_loss: 0.9014 - val_accuracy: 0.7836\n",
            "Epoch 59/150\n",
            "44/44 [==============================] - 0s 4ms/step - loss: 0.8469 - accuracy: 0.9162 - val_loss: 0.8992 - val_accuracy: 0.7836\n",
            "Epoch 60/150\n",
            "44/44 [==============================] - 0s 4ms/step - loss: 0.8458 - accuracy: 0.9162 - val_loss: 0.8964 - val_accuracy: 0.7895\n",
            "Epoch 61/150\n",
            "44/44 [==============================] - 0s 4ms/step - loss: 0.8439 - accuracy: 0.9191 - val_loss: 0.8951 - val_accuracy: 0.7895\n",
            "Epoch 62/150\n",
            "44/44 [==============================] - 0s 4ms/step - loss: 0.8431 - accuracy: 0.9191 - val_loss: 0.8948 - val_accuracy: 0.7778\n",
            "Epoch 63/150\n",
            "44/44 [==============================] - 0s 4ms/step - loss: 0.8421 - accuracy: 0.9191 - val_loss: 0.8875 - val_accuracy: 0.7836\n",
            "Epoch 64/150\n",
            "44/44 [==============================] - 0s 3ms/step - loss: 0.8413 - accuracy: 0.9191 - val_loss: 0.8866 - val_accuracy: 0.7895\n",
            "Epoch 65/150\n",
            "44/44 [==============================] - 0s 3ms/step - loss: 0.8412 - accuracy: 0.9191 - val_loss: 0.8819 - val_accuracy: 0.7895\n",
            "Epoch 66/150\n",
            "44/44 [==============================] - 0s 4ms/step - loss: 0.8340 - accuracy: 0.9277 - val_loss: 0.8843 - val_accuracy: 0.7953\n",
            "Epoch 67/150\n",
            "44/44 [==============================] - 0s 4ms/step - loss: 0.8313 - accuracy: 0.9364 - val_loss: 0.8737 - val_accuracy: 0.8129\n",
            "Epoch 68/150\n",
            "44/44 [==============================] - 0s 4ms/step - loss: 0.8275 - accuracy: 0.9393 - val_loss: 0.8759 - val_accuracy: 0.8070\n",
            "Epoch 69/150\n",
            "44/44 [==============================] - 0s 4ms/step - loss: 0.8252 - accuracy: 0.9364 - val_loss: 0.8750 - val_accuracy: 0.8070\n",
            "Epoch 70/150\n",
            "44/44 [==============================] - 0s 3ms/step - loss: 0.8240 - accuracy: 0.9364 - val_loss: 0.8738 - val_accuracy: 0.8012\n",
            "Epoch 71/150\n",
            "44/44 [==============================] - 0s 4ms/step - loss: 0.8211 - accuracy: 0.9422 - val_loss: 0.8714 - val_accuracy: 0.8012\n",
            "Epoch 72/150\n",
            "44/44 [==============================] - 0s 4ms/step - loss: 0.8221 - accuracy: 0.9422 - val_loss: 0.8747 - val_accuracy: 0.8012\n",
            "Epoch 73/150\n",
            "44/44 [==============================] - 0s 3ms/step - loss: 0.8189 - accuracy: 0.9422 - val_loss: 0.8674 - val_accuracy: 0.8070\n",
            "Epoch 74/150\n",
            "44/44 [==============================] - 0s 4ms/step - loss: 0.8179 - accuracy: 0.9422 - val_loss: 0.8764 - val_accuracy: 0.8070\n",
            "Epoch 75/150\n",
            "44/44 [==============================] - 0s 4ms/step - loss: 0.8168 - accuracy: 0.9451 - val_loss: 0.8679 - val_accuracy: 0.8129\n",
            "Epoch 76/150\n",
            "44/44 [==============================] - 0s 3ms/step - loss: 0.8147 - accuracy: 0.9480 - val_loss: 0.8669 - val_accuracy: 0.8187\n",
            "Epoch 77/150\n",
            "44/44 [==============================] - 0s 3ms/step - loss: 0.8131 - accuracy: 0.9480 - val_loss: 0.8647 - val_accuracy: 0.8304\n",
            "Epoch 78/150\n",
            "44/44 [==============================] - 0s 4ms/step - loss: 0.8117 - accuracy: 0.9509 - val_loss: 0.8702 - val_accuracy: 0.8246\n",
            "Epoch 79/150\n",
            "44/44 [==============================] - 0s 4ms/step - loss: 0.8104 - accuracy: 0.9509 - val_loss: 0.8589 - val_accuracy: 0.8304\n",
            "Epoch 80/150\n",
            "44/44 [==============================] - 0s 3ms/step - loss: 0.8103 - accuracy: 0.9509 - val_loss: 0.8694 - val_accuracy: 0.8246\n",
            "Epoch 81/150\n",
            "44/44 [==============================] - 0s 4ms/step - loss: 0.8096 - accuracy: 0.9509 - val_loss: 0.8633 - val_accuracy: 0.8246\n",
            "Epoch 82/150\n",
            "44/44 [==============================] - 0s 4ms/step - loss: 0.8093 - accuracy: 0.9509 - val_loss: 0.8597 - val_accuracy: 0.8304\n",
            "Epoch 83/150\n",
            "44/44 [==============================] - 0s 3ms/step - loss: 0.8090 - accuracy: 0.9509 - val_loss: 0.8664 - val_accuracy: 0.8187\n",
            "Epoch 84/150\n",
            "44/44 [==============================] - 0s 3ms/step - loss: 0.8092 - accuracy: 0.9509 - val_loss: 0.8600 - val_accuracy: 0.8246\n",
            "Epoch 85/150\n",
            "44/44 [==============================] - 0s 4ms/step - loss: 0.8085 - accuracy: 0.9509 - val_loss: 0.8628 - val_accuracy: 0.8187\n",
            "Epoch 86/150\n",
            "44/44 [==============================] - 0s 4ms/step - loss: 0.8086 - accuracy: 0.9509 - val_loss: 0.8634 - val_accuracy: 0.8187\n",
            "Epoch 87/150\n",
            "44/44 [==============================] - 0s 4ms/step - loss: 0.8084 - accuracy: 0.9509 - val_loss: 0.8617 - val_accuracy: 0.8246\n",
            "Epoch 88/150\n",
            "44/44 [==============================] - 0s 3ms/step - loss: 0.8084 - accuracy: 0.9509 - val_loss: 0.8624 - val_accuracy: 0.8187\n",
            "Epoch 89/150\n",
            "44/44 [==============================] - 0s 4ms/step - loss: 0.8081 - accuracy: 0.9509 - val_loss: 0.8634 - val_accuracy: 0.8187\n",
            "Epoch 90/150\n",
            "44/44 [==============================] - 0s 4ms/step - loss: 0.8080 - accuracy: 0.9509 - val_loss: 0.8630 - val_accuracy: 0.8187\n",
            "Epoch 91/150\n",
            "44/44 [==============================] - 0s 4ms/step - loss: 0.8078 - accuracy: 0.9509 - val_loss: 0.8622 - val_accuracy: 0.8187\n",
            "Epoch 92/150\n",
            "44/44 [==============================] - 0s 4ms/step - loss: 0.8078 - accuracy: 0.9509 - val_loss: 0.8611 - val_accuracy: 0.8187\n",
            "Epoch 93/150\n",
            "44/44 [==============================] - 0s 3ms/step - loss: 0.8078 - accuracy: 0.9509 - val_loss: 0.8621 - val_accuracy: 0.8187\n",
            "Epoch 94/150\n",
            "44/44 [==============================] - 0s 4ms/step - loss: 0.8079 - accuracy: 0.9509 - val_loss: 0.8625 - val_accuracy: 0.8187\n",
            "Epoch 95/150\n",
            "44/44 [==============================] - 0s 4ms/step - loss: 0.8081 - accuracy: 0.9509 - val_loss: 0.8627 - val_accuracy: 0.8187\n",
            "Epoch 96/150\n",
            "44/44 [==============================] - 0s 3ms/step - loss: 0.8106 - accuracy: 0.9451 - val_loss: 0.8648 - val_accuracy: 0.8187\n",
            "Epoch 97/150\n",
            "44/44 [==============================] - 0s 3ms/step - loss: 0.8077 - accuracy: 0.9509 - val_loss: 0.8621 - val_accuracy: 0.8187\n",
            "Epoch 98/150\n",
            "44/44 [==============================] - 0s 4ms/step - loss: 0.8076 - accuracy: 0.9509 - val_loss: 0.8623 - val_accuracy: 0.8187\n",
            "Epoch 99/150\n",
            "44/44 [==============================] - 0s 4ms/step - loss: 0.8073 - accuracy: 0.9509 - val_loss: 0.8638 - val_accuracy: 0.8187\n",
            "Epoch 100/150\n",
            "44/44 [==============================] - 0s 3ms/step - loss: 0.8072 - accuracy: 0.9509 - val_loss: 0.8658 - val_accuracy: 0.8187\n",
            "Epoch 101/150\n",
            "44/44 [==============================] - 0s 4ms/step - loss: 0.8075 - accuracy: 0.9509 - val_loss: 0.8573 - val_accuracy: 0.8187\n",
            "Epoch 102/150\n",
            "44/44 [==============================] - 0s 3ms/step - loss: 0.8072 - accuracy: 0.9509 - val_loss: 0.8649 - val_accuracy: 0.8070\n",
            "Epoch 103/150\n",
            "44/44 [==============================] - 0s 3ms/step - loss: 0.8072 - accuracy: 0.9509 - val_loss: 0.8676 - val_accuracy: 0.8070\n",
            "Epoch 104/150\n",
            "44/44 [==============================] - 0s 3ms/step - loss: 0.8071 - accuracy: 0.9509 - val_loss: 0.8788 - val_accuracy: 0.8012\n",
            "Epoch 105/150\n",
            "44/44 [==============================] - 0s 3ms/step - loss: 0.8069 - accuracy: 0.9509 - val_loss: 0.8759 - val_accuracy: 0.8070\n",
            "Epoch 106/150\n",
            "44/44 [==============================] - 0s 3ms/step - loss: 0.8066 - accuracy: 0.9509 - val_loss: 0.8723 - val_accuracy: 0.8070\n",
            "Epoch 107/150\n",
            "44/44 [==============================] - 0s 4ms/step - loss: 0.8071 - accuracy: 0.9509 - val_loss: 0.8843 - val_accuracy: 0.8012\n",
            "Epoch 108/150\n",
            "44/44 [==============================] - 0s 3ms/step - loss: 0.8063 - accuracy: 0.9509 - val_loss: 0.9025 - val_accuracy: 0.7719\n",
            "Epoch 109/150\n",
            "44/44 [==============================] - 0s 4ms/step - loss: 0.8081 - accuracy: 0.9509 - val_loss: 0.8734 - val_accuracy: 0.8129\n",
            "Epoch 110/150\n",
            "44/44 [==============================] - 0s 3ms/step - loss: 0.8054 - accuracy: 0.9538 - val_loss: 0.8905 - val_accuracy: 0.7778\n",
            "Epoch 111/150\n",
            "44/44 [==============================] - 0s 4ms/step - loss: 0.8049 - accuracy: 0.9538 - val_loss: 0.8921 - val_accuracy: 0.7778\n",
            "Epoch 112/150\n",
            "44/44 [==============================] - 0s 3ms/step - loss: 0.8048 - accuracy: 0.9538 - val_loss: 0.8862 - val_accuracy: 0.7778\n",
            "Epoch 113/150\n",
            "44/44 [==============================] - 0s 4ms/step - loss: 0.8044 - accuracy: 0.9538 - val_loss: 0.8782 - val_accuracy: 0.7953\n",
            "Epoch 114/150\n",
            "44/44 [==============================] - 0s 4ms/step - loss: 0.8045 - accuracy: 0.9538 - val_loss: 0.8800 - val_accuracy: 0.7895\n",
            "Epoch 115/150\n",
            "44/44 [==============================] - 0s 4ms/step - loss: 0.8046 - accuracy: 0.9538 - val_loss: 0.8788 - val_accuracy: 0.7953\n",
            "Epoch 116/150\n",
            "44/44 [==============================] - 0s 4ms/step - loss: 0.8043 - accuracy: 0.9538 - val_loss: 0.8825 - val_accuracy: 0.7836\n",
            "Epoch 117/150\n",
            "44/44 [==============================] - 0s 3ms/step - loss: 0.8043 - accuracy: 0.9538 - val_loss: 0.8739 - val_accuracy: 0.8129\n",
            "Epoch 118/150\n",
            "44/44 [==============================] - 0s 4ms/step - loss: 0.8043 - accuracy: 0.9538 - val_loss: 0.8840 - val_accuracy: 0.7836\n",
            "Epoch 119/150\n",
            "44/44 [==============================] - 0s 5ms/step - loss: 0.8043 - accuracy: 0.9538 - val_loss: 0.8725 - val_accuracy: 0.8012\n",
            "Epoch 120/150\n",
            "44/44 [==============================] - 0s 5ms/step - loss: 0.8042 - accuracy: 0.9538 - val_loss: 0.8811 - val_accuracy: 0.7836\n",
            "Epoch 121/150\n",
            "44/44 [==============================] - 0s 5ms/step - loss: 0.8042 - accuracy: 0.9538 - val_loss: 0.8707 - val_accuracy: 0.8129\n",
            "Epoch 122/150\n",
            "44/44 [==============================] - 0s 5ms/step - loss: 0.8041 - accuracy: 0.9538 - val_loss: 0.8826 - val_accuracy: 0.7836\n",
            "Epoch 123/150\n",
            "44/44 [==============================] - 0s 5ms/step - loss: 0.8041 - accuracy: 0.9538 - val_loss: 0.8763 - val_accuracy: 0.8012\n",
            "Epoch 124/150\n",
            "44/44 [==============================] - 0s 4ms/step - loss: 0.8041 - accuracy: 0.9538 - val_loss: 0.8782 - val_accuracy: 0.7953\n",
            "Epoch 125/150\n",
            "44/44 [==============================] - 0s 5ms/step - loss: 0.8040 - accuracy: 0.9538 - val_loss: 0.8753 - val_accuracy: 0.8012\n",
            "Epoch 126/150\n",
            "44/44 [==============================] - 0s 6ms/step - loss: 0.8040 - accuracy: 0.9538 - val_loss: 0.8735 - val_accuracy: 0.8012\n",
            "Epoch 127/150\n",
            "44/44 [==============================] - 0s 5ms/step - loss: 0.8040 - accuracy: 0.9538 - val_loss: 0.8767 - val_accuracy: 0.8012\n",
            "Epoch 128/150\n",
            "44/44 [==============================] - 0s 6ms/step - loss: 0.8040 - accuracy: 0.9538 - val_loss: 0.8759 - val_accuracy: 0.8012\n",
            "Epoch 129/150\n",
            "44/44 [==============================] - 0s 5ms/step - loss: 0.8040 - accuracy: 0.9538 - val_loss: 0.8780 - val_accuracy: 0.7953\n",
            "Epoch 130/150\n",
            "44/44 [==============================] - 0s 5ms/step - loss: 0.8039 - accuracy: 0.9538 - val_loss: 0.8739 - val_accuracy: 0.8012\n",
            "Epoch 131/150\n",
            "44/44 [==============================] - 0s 4ms/step - loss: 0.8039 - accuracy: 0.9538 - val_loss: 0.8756 - val_accuracy: 0.7953\n",
            "Epoch 132/150\n",
            "44/44 [==============================] - 0s 3ms/step - loss: 0.8039 - accuracy: 0.9538 - val_loss: 0.8744 - val_accuracy: 0.8012\n",
            "Epoch 133/150\n",
            "44/44 [==============================] - 0s 4ms/step - loss: 0.8039 - accuracy: 0.9538 - val_loss: 0.8741 - val_accuracy: 0.8012\n",
            "Epoch 134/150\n",
            "44/44 [==============================] - 0s 4ms/step - loss: 0.8038 - accuracy: 0.9538 - val_loss: 0.8747 - val_accuracy: 0.8012\n",
            "Epoch 135/150\n",
            "44/44 [==============================] - 0s 3ms/step - loss: 0.8038 - accuracy: 0.9538 - val_loss: 0.8746 - val_accuracy: 0.7953\n",
            "Epoch 136/150\n",
            "44/44 [==============================] - 0s 4ms/step - loss: 0.8038 - accuracy: 0.9538 - val_loss: 0.8754 - val_accuracy: 0.7953\n",
            "Epoch 137/150\n",
            "44/44 [==============================] - 0s 4ms/step - loss: 0.8038 - accuracy: 0.9538 - val_loss: 0.8705 - val_accuracy: 0.8129\n",
            "Epoch 138/150\n",
            "44/44 [==============================] - 0s 4ms/step - loss: 0.8038 - accuracy: 0.9538 - val_loss: 0.8734 - val_accuracy: 0.8012\n",
            "Epoch 139/150\n",
            "44/44 [==============================] - 0s 4ms/step - loss: 0.8038 - accuracy: 0.9538 - val_loss: 0.8751 - val_accuracy: 0.7953\n",
            "Epoch 140/150\n",
            "44/44 [==============================] - 0s 3ms/step - loss: 0.8038 - accuracy: 0.9538 - val_loss: 0.8740 - val_accuracy: 0.7953\n",
            "Epoch 141/150\n",
            "44/44 [==============================] - 0s 4ms/step - loss: 0.8038 - accuracy: 0.9538 - val_loss: 0.8729 - val_accuracy: 0.7953\n",
            "Epoch 142/150\n",
            "44/44 [==============================] - 0s 4ms/step - loss: 0.8038 - accuracy: 0.9538 - val_loss: 0.8722 - val_accuracy: 0.8012\n",
            "Epoch 143/150\n",
            "44/44 [==============================] - 0s 4ms/step - loss: 0.8037 - accuracy: 0.9538 - val_loss: 0.8720 - val_accuracy: 0.8129\n",
            "Epoch 144/150\n",
            "44/44 [==============================] - 0s 4ms/step - loss: 0.8038 - accuracy: 0.9538 - val_loss: 0.8719 - val_accuracy: 0.8012\n",
            "Epoch 145/150\n",
            "44/44 [==============================] - 0s 3ms/step - loss: 0.8037 - accuracy: 0.9538 - val_loss: 0.8729 - val_accuracy: 0.7953\n",
            "Epoch 146/150\n",
            "44/44 [==============================] - 0s 4ms/step - loss: 0.8037 - accuracy: 0.9538 - val_loss: 0.8759 - val_accuracy: 0.7953\n",
            "Epoch 147/150\n",
            "44/44 [==============================] - 0s 4ms/step - loss: 0.8037 - accuracy: 0.9538 - val_loss: 0.8728 - val_accuracy: 0.7953\n",
            "Epoch 148/150\n",
            "44/44 [==============================] - 0s 3ms/step - loss: 0.8037 - accuracy: 0.9538 - val_loss: 0.8724 - val_accuracy: 0.7953\n",
            "Epoch 149/150\n",
            "44/44 [==============================] - 0s 3ms/step - loss: 0.8037 - accuracy: 0.9538 - val_loss: 0.8690 - val_accuracy: 0.8129\n",
            "Epoch 150/150\n",
            "44/44 [==============================] - 0s 3ms/step - loss: 0.8037 - accuracy: 0.9538 - val_loss: 0.8764 - val_accuracy: 0.7953\n"
          ]
        }
      ]
    },
    {
      "cell_type": "code",
      "source": [
        "model.evaluate(X,Y)"
      ],
      "metadata": {
        "colab": {
          "base_uri": "https://localhost:8080/"
        },
        "id": "-eHRHmdV26SW",
        "outputId": "2996abec-d0bf-4344-8708-d6da41029125"
      },
      "execution_count": 13,
      "outputs": [
        {
          "output_type": "stream",
          "name": "stdout",
          "text": [
            "17/17 [==============================] - 0s 2ms/step - loss: 0.8277 - accuracy: 0.9014\n"
          ]
        },
        {
          "output_type": "execute_result",
          "data": {
            "text/plain": [
              "[0.8277297019958496, 0.9013539552688599]"
            ]
          },
          "metadata": {},
          "execution_count": 13
        }
      ]
    },
    {
      "cell_type": "code",
      "source": [
        "model = Sequential()\n",
        "model.add(Dense(100,activation = 'relu',input_shape = (28,)))\n",
        "model.add(Dense(50,activation = 'relu'))\n",
        "model.add(Dense(1,activation = 'sigmoid'))"
      ],
      "metadata": {
        "id": "Oh3K3lxW3JqU"
      },
      "execution_count": 15,
      "outputs": []
    },
    {
      "cell_type": "code",
      "source": [
        "model.compile(optimizer = 'adam',loss = 'binary_crossentropy',metrics = ['Accuracy'])"
      ],
      "metadata": {
        "id": "A4iZLSjz357m"
      },
      "execution_count": 17,
      "outputs": []
    },
    {
      "cell_type": "code",
      "source": [
        "model_ann = model.fit(X,Y,epochs = 100)\n",
        "model_ann"
      ],
      "metadata": {
        "id": "zytMrgVwvPd3",
        "colab": {
          "base_uri": "https://localhost:8080/"
        },
        "outputId": "dc1e0814-bc52-4967-c0a7-06329875498b"
      },
      "execution_count": 21,
      "outputs": [
        {
          "output_type": "stream",
          "name": "stdout",
          "text": [
            "Epoch 1/100\n",
            "17/17 [==============================] - 0s 3ms/step - loss: 0.0073 - Accuracy: 0.9981\n",
            "Epoch 2/100\n",
            "17/17 [==============================] - 0s 3ms/step - loss: 0.0058 - Accuracy: 1.0000\n",
            "Epoch 3/100\n",
            "17/17 [==============================] - 0s 3ms/step - loss: 0.0046 - Accuracy: 1.0000\n",
            "Epoch 4/100\n",
            "17/17 [==============================] - 0s 3ms/step - loss: 0.0042 - Accuracy: 1.0000\n",
            "Epoch 5/100\n",
            "17/17 [==============================] - 0s 3ms/step - loss: 0.0040 - Accuracy: 1.0000\n",
            "Epoch 6/100\n",
            "17/17 [==============================] - 0s 3ms/step - loss: 0.0039 - Accuracy: 1.0000\n",
            "Epoch 7/100\n",
            "17/17 [==============================] - 0s 3ms/step - loss: 0.0037 - Accuracy: 1.0000\n",
            "Epoch 8/100\n",
            "17/17 [==============================] - 0s 3ms/step - loss: 0.0037 - Accuracy: 1.0000\n",
            "Epoch 9/100\n",
            "17/17 [==============================] - 0s 3ms/step - loss: 0.0036 - Accuracy: 1.0000\n",
            "Epoch 10/100\n",
            "17/17 [==============================] - 0s 3ms/step - loss: 0.0035 - Accuracy: 1.0000\n",
            "Epoch 11/100\n",
            "17/17 [==============================] - 0s 4ms/step - loss: 0.0034 - Accuracy: 1.0000\n",
            "Epoch 12/100\n",
            "17/17 [==============================] - 0s 3ms/step - loss: 0.0031 - Accuracy: 1.0000\n",
            "Epoch 13/100\n",
            "17/17 [==============================] - 0s 4ms/step - loss: 0.0031 - Accuracy: 1.0000\n",
            "Epoch 14/100\n",
            "17/17 [==============================] - 0s 3ms/step - loss: 0.0032 - Accuracy: 1.0000\n",
            "Epoch 15/100\n",
            "17/17 [==============================] - 0s 3ms/step - loss: 0.0031 - Accuracy: 1.0000\n",
            "Epoch 16/100\n",
            "17/17 [==============================] - 0s 3ms/step - loss: 0.0030 - Accuracy: 1.0000\n",
            "Epoch 17/100\n",
            "17/17 [==============================] - 0s 3ms/step - loss: 0.0029 - Accuracy: 1.0000\n",
            "Epoch 18/100\n",
            "17/17 [==============================] - 0s 3ms/step - loss: 0.0028 - Accuracy: 1.0000\n",
            "Epoch 19/100\n",
            "17/17 [==============================] - 0s 3ms/step - loss: 0.0028 - Accuracy: 1.0000\n",
            "Epoch 20/100\n",
            "17/17 [==============================] - 0s 3ms/step - loss: 0.0029 - Accuracy: 1.0000\n",
            "Epoch 21/100\n",
            "17/17 [==============================] - 0s 2ms/step - loss: 0.0027 - Accuracy: 1.0000\n",
            "Epoch 22/100\n",
            "17/17 [==============================] - 0s 2ms/step - loss: 0.0026 - Accuracy: 1.0000\n",
            "Epoch 23/100\n",
            "17/17 [==============================] - 0s 2ms/step - loss: 0.0033 - Accuracy: 1.0000\n",
            "Epoch 24/100\n",
            "17/17 [==============================] - 0s 2ms/step - loss: 0.0031 - Accuracy: 1.0000\n",
            "Epoch 25/100\n",
            "17/17 [==============================] - 0s 2ms/step - loss: 0.0026 - Accuracy: 1.0000\n",
            "Epoch 26/100\n",
            "17/17 [==============================] - 0s 2ms/step - loss: 0.0026 - Accuracy: 1.0000\n",
            "Epoch 27/100\n",
            "17/17 [==============================] - 0s 2ms/step - loss: 0.0024 - Accuracy: 1.0000\n",
            "Epoch 28/100\n",
            "17/17 [==============================] - 0s 2ms/step - loss: 0.0023 - Accuracy: 1.0000\n",
            "Epoch 29/100\n",
            "17/17 [==============================] - 0s 2ms/step - loss: 0.0033 - Accuracy: 1.0000\n",
            "Epoch 30/100\n",
            "17/17 [==============================] - 0s 2ms/step - loss: 0.0022 - Accuracy: 1.0000\n",
            "Epoch 31/100\n",
            "17/17 [==============================] - 0s 2ms/step - loss: 0.0025 - Accuracy: 1.0000\n",
            "Epoch 32/100\n",
            "17/17 [==============================] - 0s 2ms/step - loss: 0.0032 - Accuracy: 1.0000\n",
            "Epoch 33/100\n",
            "17/17 [==============================] - 0s 2ms/step - loss: 0.0022 - Accuracy: 1.0000\n",
            "Epoch 34/100\n",
            "17/17 [==============================] - 0s 2ms/step - loss: 0.0020 - Accuracy: 1.0000\n",
            "Epoch 35/100\n",
            "17/17 [==============================] - 0s 2ms/step - loss: 0.0020 - Accuracy: 1.0000\n",
            "Epoch 36/100\n",
            "17/17 [==============================] - 0s 2ms/step - loss: 0.0020 - Accuracy: 1.0000\n",
            "Epoch 37/100\n",
            "17/17 [==============================] - 0s 2ms/step - loss: 0.0027 - Accuracy: 1.0000\n",
            "Epoch 38/100\n",
            "17/17 [==============================] - 0s 2ms/step - loss: 0.0022 - Accuracy: 1.0000\n",
            "Epoch 39/100\n",
            "17/17 [==============================] - 0s 3ms/step - loss: 0.0018 - Accuracy: 1.0000\n",
            "Epoch 40/100\n",
            "17/17 [==============================] - 0s 2ms/step - loss: 0.0021 - Accuracy: 1.0000\n",
            "Epoch 41/100\n",
            "17/17 [==============================] - 0s 2ms/step - loss: 0.0018 - Accuracy: 1.0000\n",
            "Epoch 42/100\n",
            "17/17 [==============================] - 0s 2ms/step - loss: 0.0018 - Accuracy: 1.0000\n",
            "Epoch 43/100\n",
            "17/17 [==============================] - 0s 2ms/step - loss: 0.0017 - Accuracy: 1.0000\n",
            "Epoch 44/100\n",
            "17/17 [==============================] - 0s 2ms/step - loss: 0.0016 - Accuracy: 1.0000\n",
            "Epoch 45/100\n",
            "17/17 [==============================] - 0s 2ms/step - loss: 0.0016 - Accuracy: 1.0000\n",
            "Epoch 46/100\n",
            "17/17 [==============================] - 0s 2ms/step - loss: 0.0015 - Accuracy: 1.0000\n",
            "Epoch 47/100\n",
            "17/17 [==============================] - 0s 2ms/step - loss: 0.0015 - Accuracy: 1.0000\n",
            "Epoch 48/100\n",
            "17/17 [==============================] - 0s 2ms/step - loss: 0.0014 - Accuracy: 1.0000\n",
            "Epoch 49/100\n",
            "17/17 [==============================] - 0s 3ms/step - loss: 0.0017 - Accuracy: 1.0000\n",
            "Epoch 50/100\n",
            "17/17 [==============================] - 0s 3ms/step - loss: 0.0014 - Accuracy: 1.0000\n",
            "Epoch 51/100\n",
            "17/17 [==============================] - 0s 2ms/step - loss: 0.0015 - Accuracy: 1.0000\n",
            "Epoch 52/100\n",
            "17/17 [==============================] - 0s 3ms/step - loss: 0.0014 - Accuracy: 1.0000\n",
            "Epoch 53/100\n",
            "17/17 [==============================] - 0s 2ms/step - loss: 0.0013 - Accuracy: 1.0000\n",
            "Epoch 54/100\n",
            "17/17 [==============================] - 0s 2ms/step - loss: 0.0013 - Accuracy: 1.0000\n",
            "Epoch 55/100\n",
            "17/17 [==============================] - 0s 2ms/step - loss: 0.0013 - Accuracy: 1.0000\n",
            "Epoch 56/100\n",
            "17/17 [==============================] - 0s 2ms/step - loss: 0.0013 - Accuracy: 1.0000\n",
            "Epoch 57/100\n",
            "17/17 [==============================] - 0s 4ms/step - loss: 0.0012 - Accuracy: 1.0000\n",
            "Epoch 58/100\n",
            "17/17 [==============================] - 0s 3ms/step - loss: 0.0012 - Accuracy: 1.0000\n",
            "Epoch 59/100\n",
            "17/17 [==============================] - 0s 8ms/step - loss: 0.0012 - Accuracy: 1.0000\n",
            "Epoch 60/100\n",
            "17/17 [==============================] - 0s 7ms/step - loss: 0.0012 - Accuracy: 1.0000\n",
            "Epoch 61/100\n",
            "17/17 [==============================] - 0s 9ms/step - loss: 0.0013 - Accuracy: 1.0000\n",
            "Epoch 62/100\n",
            "17/17 [==============================] - 0s 8ms/step - loss: 0.0012 - Accuracy: 1.0000\n",
            "Epoch 63/100\n",
            "17/17 [==============================] - 0s 6ms/step - loss: 0.0012 - Accuracy: 1.0000\n",
            "Epoch 64/100\n",
            "17/17 [==============================] - 0s 4ms/step - loss: 0.0011 - Accuracy: 1.0000\n",
            "Epoch 65/100\n",
            "17/17 [==============================] - 0s 4ms/step - loss: 0.0011 - Accuracy: 1.0000\n",
            "Epoch 66/100\n",
            "17/17 [==============================] - 0s 4ms/step - loss: 0.0011 - Accuracy: 1.0000\n",
            "Epoch 67/100\n",
            "17/17 [==============================] - 0s 4ms/step - loss: 0.0011 - Accuracy: 1.0000\n",
            "Epoch 68/100\n",
            "17/17 [==============================] - 0s 5ms/step - loss: 0.0010 - Accuracy: 1.0000\n",
            "Epoch 69/100\n",
            "17/17 [==============================] - 0s 5ms/step - loss: 0.0010 - Accuracy: 1.0000\n",
            "Epoch 70/100\n",
            "17/17 [==============================] - 0s 6ms/step - loss: 0.0011 - Accuracy: 1.0000\n",
            "Epoch 71/100\n",
            "17/17 [==============================] - 0s 2ms/step - loss: 0.0010 - Accuracy: 1.0000\n",
            "Epoch 72/100\n",
            "17/17 [==============================] - 0s 2ms/step - loss: 9.7093e-04 - Accuracy: 1.0000\n",
            "Epoch 73/100\n",
            "17/17 [==============================] - 0s 2ms/step - loss: 9.4801e-04 - Accuracy: 1.0000\n",
            "Epoch 74/100\n",
            "17/17 [==============================] - 0s 2ms/step - loss: 9.4188e-04 - Accuracy: 1.0000\n",
            "Epoch 75/100\n",
            "17/17 [==============================] - 0s 3ms/step - loss: 9.0235e-04 - Accuracy: 1.0000\n",
            "Epoch 76/100\n",
            "17/17 [==============================] - 0s 2ms/step - loss: 0.0010 - Accuracy: 1.0000\n",
            "Epoch 77/100\n",
            "17/17 [==============================] - 0s 5ms/step - loss: 9.3166e-04 - Accuracy: 1.0000\n",
            "Epoch 78/100\n",
            "17/17 [==============================] - 0s 5ms/step - loss: 8.7884e-04 - Accuracy: 1.0000\n",
            "Epoch 79/100\n",
            "17/17 [==============================] - 0s 5ms/step - loss: 8.7148e-04 - Accuracy: 1.0000\n",
            "Epoch 80/100\n",
            "17/17 [==============================] - 0s 7ms/step - loss: 8.4870e-04 - Accuracy: 1.0000\n",
            "Epoch 81/100\n",
            "17/17 [==============================] - 0s 6ms/step - loss: 0.0017 - Accuracy: 1.0000\n",
            "Epoch 82/100\n",
            "17/17 [==============================] - 0s 6ms/step - loss: 0.0011 - Accuracy: 1.0000\n",
            "Epoch 83/100\n",
            "17/17 [==============================] - 0s 4ms/step - loss: 8.4248e-04 - Accuracy: 1.0000\n",
            "Epoch 84/100\n",
            "17/17 [==============================] - 0s 4ms/step - loss: 7.6876e-04 - Accuracy: 1.0000\n",
            "Epoch 85/100\n",
            "17/17 [==============================] - 0s 6ms/step - loss: 7.8557e-04 - Accuracy: 1.0000\n",
            "Epoch 86/100\n",
            "17/17 [==============================] - 0s 4ms/step - loss: 7.6180e-04 - Accuracy: 1.0000\n",
            "Epoch 87/100\n",
            "17/17 [==============================] - 0s 6ms/step - loss: 7.3635e-04 - Accuracy: 1.0000\n",
            "Epoch 88/100\n",
            "17/17 [==============================] - 0s 5ms/step - loss: 7.7767e-04 - Accuracy: 1.0000\n",
            "Epoch 89/100\n",
            "17/17 [==============================] - 0s 5ms/step - loss: 7.6354e-04 - Accuracy: 1.0000\n",
            "Epoch 90/100\n",
            "17/17 [==============================] - 0s 7ms/step - loss: 0.0032 - Accuracy: 0.9981\n",
            "Epoch 91/100\n",
            "17/17 [==============================] - 0s 7ms/step - loss: 0.0362 - Accuracy: 0.9981\n",
            "Epoch 92/100\n",
            "17/17 [==============================] - 0s 4ms/step - loss: 0.0071 - Accuracy: 0.9981\n",
            "Epoch 93/100\n",
            "17/17 [==============================] - 0s 3ms/step - loss: 0.0219 - Accuracy: 0.9981\n",
            "Epoch 94/100\n",
            "17/17 [==============================] - 0s 4ms/step - loss: 0.0085 - Accuracy: 0.9961\n",
            "Epoch 95/100\n",
            "17/17 [==============================] - 0s 4ms/step - loss: 0.0202 - Accuracy: 0.9942\n",
            "Epoch 96/100\n",
            "17/17 [==============================] - 0s 3ms/step - loss: 0.0192 - Accuracy: 0.9942\n",
            "Epoch 97/100\n",
            "17/17 [==============================] - 0s 5ms/step - loss: 0.0487 - Accuracy: 0.9903\n",
            "Epoch 98/100\n",
            "17/17 [==============================] - 0s 4ms/step - loss: 0.0285 - Accuracy: 0.9961\n",
            "Epoch 99/100\n",
            "17/17 [==============================] - 0s 3ms/step - loss: 0.0313 - Accuracy: 0.9961\n",
            "Epoch 100/100\n",
            "17/17 [==============================] - 0s 2ms/step - loss: 0.0090 - Accuracy: 0.9961\n"
          ]
        },
        {
          "output_type": "execute_result",
          "data": {
            "text/plain": [
              "<keras.callbacks.History at 0x78effc077df0>"
            ]
          },
          "metadata": {},
          "execution_count": 21
        }
      ]
    },
    {
      "cell_type": "code",
      "source": [
        "model.evaluate(X,Y)"
      ],
      "metadata": {
        "colab": {
          "base_uri": "https://localhost:8080/"
        },
        "id": "rBRqAcFG4Gfp",
        "outputId": "0c9d8395-0324-441e-e706-fa077b9daba5"
      },
      "execution_count": 19,
      "outputs": [
        {
          "output_type": "stream",
          "name": "stdout",
          "text": [
            "17/17 [==============================] - 0s 2ms/step - loss: 0.0043 - Accuracy: 1.0000\n"
          ]
        },
        {
          "output_type": "execute_result",
          "data": {
            "text/plain": [
              "[0.0042585511691868305, 1.0]"
            ]
          },
          "metadata": {},
          "execution_count": 19
        }
      ]
    },
    {
      "cell_type": "code",
      "source": [
        "#Accuracy Graph\n",
        "import matplotlib.pyplot as plt\n",
        "plt.plot(model_ann.history['Accuracy'],'r')\n",
        "plt.title('Accuracy Graph')\n",
        "plt.xlabel('Epochs')\n",
        "plt.ylabel('Accuracy')"
      ],
      "metadata": {
        "colab": {
          "base_uri": "https://localhost:8080/",
          "height": 489
        },
        "id": "4eJBzGJ04Ld-",
        "outputId": "0b42bed8-d1b3-4e44-bb89-9a6d5702716e"
      },
      "execution_count": 26,
      "outputs": [
        {
          "output_type": "execute_result",
          "data": {
            "text/plain": [
              "Text(0, 0.5, 'Accuracy')"
            ]
          },
          "metadata": {},
          "execution_count": 26
        },
        {
          "output_type": "display_data",
          "data": {
            "text/plain": [
              "<Figure size 640x480 with 1 Axes>"
            ],
            "image/png": "[encoded data removed]"
          },
          "metadata": {}
        }
      ]
    },
    {
      "cell_type": "code",
      "source": [
        "#Loss Graph\n",
        "import matplotlib.pyplot as plt\n",
        "plt.plot(model_ann.history['loss'],'b')\n",
        "plt.title('Loss Graph')\n",
        "plt.xlabel('Epochs')\n",
        "plt.ylabel('loss')"
      ],
      "metadata": {
        "colab": {
          "base_uri": "https://localhost:8080/",
          "height": 489
        },
        "id": "ff0olCjJ44QP",
        "outputId": "0a5ac426-f57f-4bdc-ffb1-dc2bdbbe4088"
      },
      "execution_count": 29,
      "outputs": [
        {
          "output_type": "execute_result",
          "data": {
            "text/plain": [
              "Text(0, 0.5, 'loss')"
            ]
          },
          "metadata": {},
          "execution_count": 29
        },
        {
          "output_type": "display_data",
          "data": {
            "text/plain": [
              "<Figure size 640x480 with 1 Axes>"
            ],
            "image/png": "[encoded data removed]"
          },
          "metadata": {}
        }
      ]
    },
    {
      "cell_type": "code",
      "source": [
        "X1 = model.predict(X)\n",
        "X1\n",
        "X2 = []\n",
        "for element in X1:\n",
        "  if element > 0.5:\n",
        "    X2.append(1)\n",
        "  else:\n",
        "    X2.append(0)"
      ],
      "metadata": {
        "colab": {
          "base_uri": "https://localhost:8080/"
        },
        "id": "g7VY1Xn06GWK",
        "outputId": "e0fdf6da-201e-4570-d383-c6fcd07a7f11"
      },
      "execution_count": 35,
      "outputs": [
        {
          "output_type": "stream",
          "name": "stdout",
          "text": [
            "17/17 [==============================] - 0s 1ms/step\n"
          ]
        }
      ]
    },
    {
      "cell_type": "code",
      "source": [
        "#classifcation report\n",
        "from sklearn.metrics import classification_report\n",
        "print(classification_report(X2,Y))"
      ],
      "metadata": {
        "colab": {
          "base_uri": "https://localhost:8080/"
        },
        "id": "Q1uN8z0d5m11",
        "outputId": "bfc383f0-157b-4652-a0c9-bbb9e36db22d"
      },
      "execution_count": 38,
      "outputs": [
        {
          "output_type": "stream",
          "name": "stdout",
          "text": [
            "              precision    recall  f1-score   support\n",
            "\n",
            "           0       1.00      1.00      1.00       378\n",
            "           1       1.00      1.00      1.00       139\n",
            "\n",
            "    accuracy                           1.00       517\n",
            "   macro avg       1.00      1.00      1.00       517\n",
            "weighted avg       1.00      1.00      1.00       517\n",
            "\n"
          ]
        }
      ]
    },
    {
      "cell_type": "code",
      "source": [],
      "metadata": {
        "colab": {
          "base_uri": "https://localhost:8080/"
        },
        "id": "6XGxm3zd56_k",
        "outputId": "35f4fa6d-f364-4061-dce5-df278df4dafb"
      },
      "execution_count": 33,
      "outputs": [
        {
          "output_type": "execute_result",
          "data": {
            "text/plain": [
              "array([[-8.0595946e-01, -1.3233255e+00, -1.8304768e+00, ...,\n",
              "        -4.4022545e-02, -1.7285971e-01, -7.0608127e-01],\n",
              "       [-8.1020342e-03, -1.1795408e+00,  4.8889092e-01, ...,\n",
              "        -4.4022545e-02,  5.7850380e+00, -7.0608127e-01],\n",
              "       [-8.1020342e-03, -1.0498219e+00,  5.6071544e-01, ...,\n",
              "        -4.4022545e-02,  5.7850380e+00, -7.0608127e-01],\n",
              "       ...,\n",
              "       [-1.6400832e+00, -8.4664774e-01,  4.7476810e-01, ...,\n",
              "        -4.4022545e-02, -1.7285971e-01, -7.0608127e-01],\n",
              "       [ 6.8095666e-01,  5.4900253e-01,  2.6938221e-01, ...,\n",
              "        -4.4022545e-02, -1.7285971e-01, -7.0608127e-01],\n",
              "       [-2.0208788e+00, -1.6859133e+00, -1.7804416e+00, ...,\n",
              "         2.2715633e+01, -1.7285971e-01, -7.0608127e-01]], dtype=float32)"
            ]
          },
          "metadata": {},
          "execution_count": 33
        }
      ]
    },
    {
      "cell_type": "code",
      "source": [],
      "metadata": {
        "id": "7AxdqKtP59Xl"
      },
      "execution_count": null,
      "outputs": []
    }
  ]
}